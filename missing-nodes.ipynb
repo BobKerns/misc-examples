{
    "cells": [
        {
            "cell_type": "markdown",
            "source": [
                "# Find Missing Parents"
            ],
            "metadata": {}
        },
        {
            "cell_type": "markdown",
            "source": [
                "## Setup\n",
                "This just creates test data."
            ],
            "metadata": {}
        },
        {
            "cell_type": "code",
            "execution_count": 59,
            "source": [
                "# set up simple environment\n",
                "# start with suffixes.\n",
                "suffixes = [\"a\", \"b\", \"c\", \"d\", \"e\", \"f\", \"g\"]\n",
                "# Produce the names as a generator\n",
                "parent_names =  (\"biome_\"+p for p in suffixes)\n",
                "# Do the same for the children.\n",
                "child_names = (\"child_\" + str(i) for i in range(100, 120))\n",
                "# Don't create these; they are what we want to find\n",
                "missing = {\"biome_c\", \"biome_e\", \"biome_f\"}\n",
                "# Create the parent nodes, excewpt for the missing ones above.\n",
                "parent_nodes = {n:{\"name\": n, \"id\": i, \"parent\": i} for (n, i) in zip(parent_names, iter(range(1, 8))) if not n in missing}\n",
                "# Only use parents im the ID range 1 - 4, so only \"biome_c\" will be missing-but-used\n",
                "child_nodes = {n:{\"name\":n, \"id\": i, \"parent\": (i % 4) + 1} for (n, i) in zip(child_names, range(100,120))}\n",
                "# Combine the two sets of nodes.\n",
                "nodes = {**parent_nodes, **child_nodes}"
            ],
            "outputs": [],
            "metadata": {}
        },
        {
            "cell_type": "markdown",
            "source": [
                "## Our test data:\n",
                "OK, now we have our test data set up. Let's look at it.\n",
                "\n",
                "Note that no child has a parent of 5, 6, 7, or 8"
            ],
            "metadata": {}
        },
        {
            "cell_type": "code",
            "execution_count": 44,
            "source": [
                "nodes"
            ],
            "outputs": [
                {
                    "output_type": "execute_result",
                    "data": {
                        "text/plain": [
                            "{'biome_a': {'name': 'biome_a', 'id': 1, 'parent': 1},\n",
                            " 'biome_b': {'name': 'biome_b', 'id': 2, 'parent': 2},\n",
                            " 'biome_d': {'name': 'biome_d', 'id': 4, 'parent': 4},\n",
                            " 'biome_g': {'name': 'biome_g', 'id': 7, 'parent': 7},\n",
                            " 'child_100': {'name': 'child_100', 'id': 100, 'parent': 1},\n",
                            " 'child_101': {'name': 'child_101', 'id': 101, 'parent': 2},\n",
                            " 'child_102': {'name': 'child_102', 'id': 102, 'parent': 3},\n",
                            " 'child_103': {'name': 'child_103', 'id': 103, 'parent': 4},\n",
                            " 'child_104': {'name': 'child_104', 'id': 104, 'parent': 1},\n",
                            " 'child_105': {'name': 'child_105', 'id': 105, 'parent': 2},\n",
                            " 'child_106': {'name': 'child_106', 'id': 106, 'parent': 3},\n",
                            " 'child_107': {'name': 'child_107', 'id': 107, 'parent': 4},\n",
                            " 'child_108': {'name': 'child_108', 'id': 108, 'parent': 1},\n",
                            " 'child_109': {'name': 'child_109', 'id': 109, 'parent': 2},\n",
                            " 'child_110': {'name': 'child_110', 'id': 110, 'parent': 3},\n",
                            " 'child_111': {'name': 'child_111', 'id': 111, 'parent': 4},\n",
                            " 'child_112': {'name': 'child_112', 'id': 112, 'parent': 1},\n",
                            " 'child_113': {'name': 'child_113', 'id': 113, 'parent': 2},\n",
                            " 'child_114': {'name': 'child_114', 'id': 114, 'parent': 3},\n",
                            " 'child_115': {'name': 'child_115', 'id': 115, 'parent': 4},\n",
                            " 'child_116': {'name': 'child_116', 'id': 116, 'parent': 1},\n",
                            " 'child_117': {'name': 'child_117', 'id': 117, 'parent': 2},\n",
                            " 'child_118': {'name': 'child_118', 'id': 118, 'parent': 3},\n",
                            " 'child_119': {'name': 'child_119', 'id': 119, 'parent': 4}}"
                        ]
                    },
                    "metadata": {},
                    "execution_count": 44
                }
            ],
            "metadata": {}
        },
        {
            "cell_type": "markdown",
            "source": [
                "## Find the missing parents.\n",
                "\n",
                "Because we don't have an easy lookup from ID to node or name, we'll associate each ID a node in a map. Otherwise, we'd use sets rather than maps.\n",
                "\n",
                "### Find all the parents.\n"
            ],
            "metadata": {}
        },
        {
            "cell_type": "code",
            "execution_count": 58,
            "source": [
                "parents = {node[\"id\"]:node for node in nodes.values() if node[\"id\"] == node[\"parent\"]}\n",
                "parents"
            ],
            "outputs": [
                {
                    "output_type": "execute_result",
                    "data": {
                        "text/plain": [
                            "{1: {'name': 'biome_a', 'id': 1, 'parent': 1},\n",
                            " 2: {'name': 'biome_b', 'id': 2, 'parent': 2},\n",
                            " 4: {'name': 'biome_d', 'id': 4, 'parent': 4},\n",
                            " 7: {'name': 'biome_g', 'id': 7, 'parent': 7}}"
                        ]
                    },
                    "metadata": {},
                    "execution_count": 58
                }
            ],
            "metadata": {}
        },
        {
            "cell_type": "markdown",
            "source": [
                "Now let's find the children the same way.\n",
                "\n",
                "### Find all the children."
            ],
            "metadata": {}
        },
        {
            "cell_type": "code",
            "execution_count": 57,
            "source": [
                "children = {node[\"id\"]:node for node in nodes.values() if node[\"id\"] != node[\"parent\"]}\n",
                "children"
            ],
            "outputs": [
                {
                    "output_type": "execute_result",
                    "data": {
                        "text/plain": [
                            "{100: {'name': 'child_100', 'id': 100, 'parent': 1},\n",
                            " 101: {'name': 'child_101', 'id': 101, 'parent': 2},\n",
                            " 102: {'name': 'child_102', 'id': 102, 'parent': 3},\n",
                            " 103: {'name': 'child_103', 'id': 103, 'parent': 4},\n",
                            " 104: {'name': 'child_104', 'id': 104, 'parent': 1},\n",
                            " 105: {'name': 'child_105', 'id': 105, 'parent': 2},\n",
                            " 106: {'name': 'child_106', 'id': 106, 'parent': 3},\n",
                            " 107: {'name': 'child_107', 'id': 107, 'parent': 4},\n",
                            " 108: {'name': 'child_108', 'id': 108, 'parent': 1},\n",
                            " 109: {'name': 'child_109', 'id': 109, 'parent': 2},\n",
                            " 110: {'name': 'child_110', 'id': 110, 'parent': 3},\n",
                            " 111: {'name': 'child_111', 'id': 111, 'parent': 4},\n",
                            " 112: {'name': 'child_112', 'id': 112, 'parent': 1},\n",
                            " 113: {'name': 'child_113', 'id': 113, 'parent': 2},\n",
                            " 114: {'name': 'child_114', 'id': 114, 'parent': 3},\n",
                            " 115: {'name': 'child_115', 'id': 115, 'parent': 4},\n",
                            " 116: {'name': 'child_116', 'id': 116, 'parent': 1},\n",
                            " 117: {'name': 'child_117', 'id': 117, 'parent': 2},\n",
                            " 118: {'name': 'child_118', 'id': 118, 'parent': 3},\n",
                            " 119: {'name': 'child_119', 'id': 119, 'parent': 4}}"
                        ]
                    },
                    "metadata": {},
                    "execution_count": 57
                }
            ],
            "metadata": {}
        },
        {
            "cell_type": "markdown",
            "source": [
                "So the question now is, what parents are in use? Let's construct that set. Again, we'll use a map rather than a set, so we remember an example child to go with each `in_use` parent."
            ],
            "metadata": {}
        },
        {
            "cell_type": "code",
            "execution_count": 62,
            "source": [
                "in_use = {node[\"parent\"]: node for node in children.values()}\n",
                "in_use"
            ],
            "outputs": [
                {
                    "output_type": "execute_result",
                    "data": {
                        "text/plain": [
                            "{1: {'name': 'child_116', 'id': 116, 'parent': 1},\n",
                            " 2: {'name': 'child_117', 'id': 117, 'parent': 2},\n",
                            " 3: {'name': 'child_118', 'id': 118, 'parent': 3},\n",
                            " 4: {'name': 'child_119', 'id': 119, 'parent': 4}}"
                        ]
                    },
                    "metadata": {},
                    "execution_count": 62
                }
            ],
            "metadata": {}
        },
        {
            "cell_type": "markdown",
            "source": [
                "So the next question is, which of these parents don't exist?\n",
                "\n",
                "Here, we'll use set operations, removing the existing parents from the ones in use."
            ],
            "metadata": {}
        },
        {
            "cell_type": "code",
            "execution_count": 64,
            "source": [
                "need_to_create = set(in_use.keys()).difference(parents.keys())\n",
                "need_to_create"
            ],
            "outputs": [
                {
                    "output_type": "execute_result",
                    "data": {
                        "text/plain": [
                            "{3}"
                        ]
                    },
                    "metadata": {},
                    "execution_count": 64
                }
            ],
            "metadata": {}
        },
        {
            "cell_type": "markdown",
            "source": [
                "But we want child nodes, not just parent ID's, so we'll refer back to our `in_use` variable to find those."
            ],
            "metadata": {}
        },
        {
            "cell_type": "code",
            "execution_count": 66,
            "source": [
                "to_create_parents = [in_use[n] for n in need_to_create]\n",
                "to_create_parents"
            ],
            "outputs": [
                {
                    "output_type": "execute_result",
                    "data": {
                        "text/plain": [
                            "[{'name': 'child_118', 'id': 118, 'parent': 3}]"
                        ]
                    },
                    "metadata": {},
                    "execution_count": 66
                }
            ],
            "metadata": {}
        },
        {
            "cell_type": "markdown",
            "source": [
                "And those are the ones (only 1 in this case) that we need to create a parent for!"
            ],
            "metadata": {}
        },
        {
            "cell_type": "markdown",
            "source": [
                "## Recap\n",
                "\n",
                "So to review what we did:\n",
                "\n",
                "```python\n",
                "parents = {node[\"id\"]:node for node in nodes.values() if node[\"id\"] == node[\"parent\"]}  #1\n",
                "children = {node[\"id\"]:node for node in nodes.values() if node[\"id\"] != node[\"parent\"]} #2\n",
                "in_use = {node[\"parent\"]: node for node in children.values()}                           #3\n",
                "need_to_create = set(in_use.keys()).difference(parents.keys())                          #4\n",
                "to_create_parents = (in_use[n] for n in need_to_create)                                 #5\n",
                "for node in to_create_parents:                                                          #6\n",
                "    create_parent(node)\n",
                "```\n",
                "\n",
                "Or:\n",
                "1. Find the parents, in a dict indexed by `id`.\n",
                "2. Find the children, in a dict indexed by `id`.\n",
                "3. Find the parents in use by scanning the children, in a dict indexed by parent.\n",
                "4. Find the parents in use but not existing, but removing the ones from #3 that exist.\n",
                "5. Find the selected child for each missing parent.\n",
                "6. Create the parents.\n",
                "\n",
                "### Done!\n"
            ],
            "metadata": {}
        }
    ],
    "metadata": {
        "orig_nbformat": 4,
        "language_info": {
            "name": "python",
            "version": "3.8.8",
            "mimetype": "text/x-python",
            "codemirror_mode": {
                "name": "ipython",
                "version": 3
            },
            "pygments_lexer": "ipython3",
            "nbconvert_exporter": "python",
            "file_extension": ".py"
        },
        "kernelspec": {
            "name": "python3",
            "display_name": "Python 3.8.8 64-bit ('quantecon2': conda)"
        },
        "interpreter": {
            "hash": "3b7f46af9056fed9454bb316c7ff931025fa3be34436a7fb847e8a2d48164f9c"
        }
    },
    "nbformat": 4,
    "nbformat_minor": 2
}