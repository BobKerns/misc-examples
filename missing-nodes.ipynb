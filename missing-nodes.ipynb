{
    "cells": [
        {
            "cell_type": "markdown",
            "source": [
                "# Find Missing Parents\n",
                "\n",
                "I'll give two approaches:\n",
                "\n",
                "1. Carrying the association between ID and node as we go\n",
                "2. Precomputing a global map from ID to name, and just working with sets of IDs.\n"
            ],
            "metadata": {}
        },
        {
            "cell_type": "markdown",
            "source": [
                "## Setup\n",
                "This just creates test data."
            ],
            "metadata": {}
        },
        {
            "cell_type": "code",
            "execution_count": 1,
            "source": [
                "# set up simple environment\n",
                "# start with suffixes.\n",
                "suffixes = [\"a\", \"b\", \"c\", \"d\", \"e\", \"f\", \"g\"]\n",
                "\n",
                "def setup():\n",
                "    '''Set up our data.'''\n",
                "    # Produce the names as a generator\n",
                "    parent_names =  (\"parent_\"+p for p in suffixes)\n",
                "    # Do the same for the children.\n",
                "    child_names = (\"child_\" + str(i) for i in range(100, 120))\n",
                "    # Don't create these; they are what we want to find\n",
                "    missing = {\"parent_c\", \"parent_e\", \"parent_f\"}\n",
                "    # Create the parent nodes, except for the missing ones above.\n",
                "    parent_nodes = {\n",
                "        n:{\"name\": n, \"id\": i, \"parent\": i}\n",
                "        for (i, n) in enumerate(parent_names, 1)\n",
                "        if not n in missing\n",
                "        }\n",
                "    # Only use parents in the ID range 1 - 4, so only \"parent_c\" will be\n",
                "    # missing-but-used\n",
                "    child_nodes = {\n",
                "        n:{\"name\":n, \"id\": i, \"parent\": (i % 4) + 1}\n",
                "        for (i, n) in enumerate(child_names, 100)\n",
                "    }\n",
                "    # Combine the two sets of nodes.\n",
                "    # Python 3 way:\n",
                "    # nodes = {**parent_nodes, **child_nodes}\n",
                "    # Python 2.7 way:\n",
                "    nodes = {}\n",
                "    nodes.update(parent_nodes)\n",
                "    nodes.update(child_nodes)\n",
                "    return nodes\n",
                "\n",
                "def create_parent(node):\n",
                "    '''Dummy create_parent\n",
                "    \n",
                "* node: the child node (or child node name) to create a parent for'''\n",
                "    print('create_parent', node)\n",
                "    if isinstance(node, str):\n",
                "        return node\n",
                "    else:\n",
                "        return node[\"name\"]"
            ],
            "outputs": [],
            "metadata": {}
        },
        {
            "cell_type": "markdown",
            "source": [
                "## Our test data:\n",
                "OK, now we have our test data set up. Let's look at it.\n",
                "\n",
                "Note that no child has a parent of 3, 5, 6, or 7"
            ],
            "metadata": {}
        },
        {
            "cell_type": "code",
            "execution_count": 2,
            "source": [
                "nodes = setup()\n",
                "nodes"
            ],
            "outputs": [
                {
                    "output_type": "execute_result",
                    "data": {
                        "text/plain": [
                            "{'parent_a': {'name': 'parent_a', 'id': 1, 'parent': 1},\n",
                            " 'parent_b': {'name': 'parent_b', 'id': 2, 'parent': 2},\n",
                            " 'parent_d': {'name': 'parent_d', 'id': 4, 'parent': 4},\n",
                            " 'parent_g': {'name': 'parent_g', 'id': 7, 'parent': 7},\n",
                            " 'child_100': {'name': 'child_100', 'id': 100, 'parent': 1},\n",
                            " 'child_101': {'name': 'child_101', 'id': 101, 'parent': 2},\n",
                            " 'child_102': {'name': 'child_102', 'id': 102, 'parent': 3},\n",
                            " 'child_103': {'name': 'child_103', 'id': 103, 'parent': 4},\n",
                            " 'child_104': {'name': 'child_104', 'id': 104, 'parent': 1},\n",
                            " 'child_105': {'name': 'child_105', 'id': 105, 'parent': 2},\n",
                            " 'child_106': {'name': 'child_106', 'id': 106, 'parent': 3},\n",
                            " 'child_107': {'name': 'child_107', 'id': 107, 'parent': 4},\n",
                            " 'child_108': {'name': 'child_108', 'id': 108, 'parent': 1},\n",
                            " 'child_109': {'name': 'child_109', 'id': 109, 'parent': 2},\n",
                            " 'child_110': {'name': 'child_110', 'id': 110, 'parent': 3},\n",
                            " 'child_111': {'name': 'child_111', 'id': 111, 'parent': 4},\n",
                            " 'child_112': {'name': 'child_112', 'id': 112, 'parent': 1},\n",
                            " 'child_113': {'name': 'child_113', 'id': 113, 'parent': 2},\n",
                            " 'child_114': {'name': 'child_114', 'id': 114, 'parent': 3},\n",
                            " 'child_115': {'name': 'child_115', 'id': 115, 'parent': 4},\n",
                            " 'child_116': {'name': 'child_116', 'id': 116, 'parent': 1},\n",
                            " 'child_117': {'name': 'child_117', 'id': 117, 'parent': 2},\n",
                            " 'child_118': {'name': 'child_118', 'id': 118, 'parent': 3},\n",
                            " 'child_119': {'name': 'child_119', 'id': 119, 'parent': 4}}"
                        ]
                    },
                    "metadata": {},
                    "execution_count": 2
                }
            ],
            "metadata": {}
        },
        {
            "cell_type": "markdown",
            "source": [
                "## Find the missing parents.\n",
                "\n",
                "Because we don't have an easy lookup from ID to node or name, we'll associate each ID a node in a map. Otherwise, we'd use sets rather than maps.\n",
                "\n",
                "### Find all the parents.\n"
            ],
            "metadata": {}
        },
        {
            "cell_type": "code",
            "execution_count": 3,
            "source": [
                "parents = {node[\"id\"]:node for node in nodes.values() if node[\"id\"] == node[\"parent\"]}\n",
                "parents"
            ],
            "outputs": [
                {
                    "output_type": "execute_result",
                    "data": {
                        "text/plain": [
                            "{1: {'name': 'parent_a', 'id': 1, 'parent': 1},\n",
                            " 2: {'name': 'parent_b', 'id': 2, 'parent': 2},\n",
                            " 4: {'name': 'parent_d', 'id': 4, 'parent': 4},\n",
                            " 7: {'name': 'parent_g', 'id': 7, 'parent': 7}}"
                        ]
                    },
                    "metadata": {},
                    "execution_count": 3
                }
            ],
            "metadata": {}
        },
        {
            "cell_type": "markdown",
            "source": [
                "Now let's find the children the same way.\n",
                "\n",
                "### Find all the children."
            ],
            "metadata": {}
        },
        {
            "cell_type": "code",
            "execution_count": 4,
            "source": [
                "children = {node[\"id\"]:node for node in nodes.values() if node[\"id\"] != node[\"parent\"]}\n",
                "children"
            ],
            "outputs": [
                {
                    "output_type": "execute_result",
                    "data": {
                        "text/plain": [
                            "{100: {'name': 'child_100', 'id': 100, 'parent': 1},\n",
                            " 101: {'name': 'child_101', 'id': 101, 'parent': 2},\n",
                            " 102: {'name': 'child_102', 'id': 102, 'parent': 3},\n",
                            " 103: {'name': 'child_103', 'id': 103, 'parent': 4},\n",
                            " 104: {'name': 'child_104', 'id': 104, 'parent': 1},\n",
                            " 105: {'name': 'child_105', 'id': 105, 'parent': 2},\n",
                            " 106: {'name': 'child_106', 'id': 106, 'parent': 3},\n",
                            " 107: {'name': 'child_107', 'id': 107, 'parent': 4},\n",
                            " 108: {'name': 'child_108', 'id': 108, 'parent': 1},\n",
                            " 109: {'name': 'child_109', 'id': 109, 'parent': 2},\n",
                            " 110: {'name': 'child_110', 'id': 110, 'parent': 3},\n",
                            " 111: {'name': 'child_111', 'id': 111, 'parent': 4},\n",
                            " 112: {'name': 'child_112', 'id': 112, 'parent': 1},\n",
                            " 113: {'name': 'child_113', 'id': 113, 'parent': 2},\n",
                            " 114: {'name': 'child_114', 'id': 114, 'parent': 3},\n",
                            " 115: {'name': 'child_115', 'id': 115, 'parent': 4},\n",
                            " 116: {'name': 'child_116', 'id': 116, 'parent': 1},\n",
                            " 117: {'name': 'child_117', 'id': 117, 'parent': 2},\n",
                            " 118: {'name': 'child_118', 'id': 118, 'parent': 3},\n",
                            " 119: {'name': 'child_119', 'id': 119, 'parent': 4}}"
                        ]
                    },
                    "metadata": {},
                    "execution_count": 4
                }
            ],
            "metadata": {}
        },
        {
            "cell_type": "markdown",
            "source": [
                "So the question now is, what parents are in use? Let's construct that set. Again, we'll use a map rather than a set, so we remember an example child to go with each `in_use` parent."
            ],
            "metadata": {}
        },
        {
            "cell_type": "code",
            "execution_count": 5,
            "source": [
                "in_use = {node[\"parent\"]: node for node in children.values()}\n",
                "in_use"
            ],
            "outputs": [
                {
                    "output_type": "execute_result",
                    "data": {
                        "text/plain": [
                            "{1: {'name': 'child_116', 'id': 116, 'parent': 1},\n",
                            " 2: {'name': 'child_117', 'id': 117, 'parent': 2},\n",
                            " 3: {'name': 'child_118', 'id': 118, 'parent': 3},\n",
                            " 4: {'name': 'child_119', 'id': 119, 'parent': 4}}"
                        ]
                    },
                    "metadata": {},
                    "execution_count": 5
                }
            ],
            "metadata": {}
        },
        {
            "cell_type": "markdown",
            "source": [
                "So the next question is, which of these parents don't exist?\n",
                "\n",
                "Here, we'll use set operations, removing the existing parents from the ones in use."
            ],
            "metadata": {}
        },
        {
            "cell_type": "code",
            "execution_count": 6,
            "source": [
                "need_to_create = set(in_use.keys()).difference(parents.keys())\n",
                "need_to_create"
            ],
            "outputs": [
                {
                    "output_type": "execute_result",
                    "data": {
                        "text/plain": [
                            "{3}"
                        ]
                    },
                    "metadata": {},
                    "execution_count": 6
                }
            ],
            "metadata": {}
        },
        {
            "cell_type": "markdown",
            "source": [
                "But we want child nodes, not just parent ID's, so we'll refer back to our `in_use` variable to find those."
            ],
            "metadata": {}
        },
        {
            "cell_type": "code",
            "execution_count": 7,
            "source": [
                "to_create_parents = [in_use[n] for n in need_to_create]\n",
                "to_create_parents"
            ],
            "outputs": [
                {
                    "output_type": "execute_result",
                    "data": {
                        "text/plain": [
                            "[{'name': 'child_118', 'id': 118, 'parent': 3}]"
                        ]
                    },
                    "metadata": {},
                    "execution_count": 7
                }
            ],
            "metadata": {}
        },
        {
            "cell_type": "markdown",
            "source": [
                "And those are the ones (only 1 in this case) that we need to create a parent for!"
            ],
            "metadata": {}
        },
        {
            "cell_type": "code",
            "execution_count": 8,
            "source": [
                "[create_parent(node) for node in to_create_parents]"
            ],
            "outputs": [
                {
                    "output_type": "stream",
                    "name": "stdout",
                    "text": [
                        "create_parent {'name': 'child_118', 'id': 118, 'parent': 3}\n"
                    ]
                },
                {
                    "output_type": "execute_result",
                    "data": {
                        "text/plain": [
                            "['child_118']"
                        ]
                    },
                    "metadata": {},
                    "execution_count": 8
                }
            ],
            "metadata": {}
        },
        {
            "cell_type": "markdown",
            "source": [
                "## Recap\n",
                "\n",
                "So to review what we did:\n",
                "\n",
                "```python\n",
                "parents = {node[\"id\"]:node for node in nodes.values() if node[\"id\"] == node[\"parent\"]}  #1\n",
                "children = {node[\"id\"]:node for node in nodes.values() if node[\"id\"] != node[\"parent\"]} #2\n",
                "in_use = {node[\"parent\"]: node for node in children.values()}                           #3\n",
                "need_to_create = set(in_use.keys()).difference(parents.keys())                          #4\n",
                "to_create_parents = (in_use[n] for n in need_to_create)                                 #5\n",
                "[create_parent(node) for node in to_create_parents]                                     #6\n",
                "```\n",
                "\n",
                "Or:\n",
                "1. Find the parents, in a dict indexed by `id`.\n",
                "2. Find the children, in a dict indexed by `id`.\n",
                "3. Find the parents in use by scanning the children, in a dict indexed by parent.\n",
                "4. Find the parents in use but not existing, but removing the ones from #3 that exist.\n",
                "5. Find the selected child for each missing parent.\n",
                "6. Create the parents.\n",
                "\n",
                "### Done!\n"
            ],
            "metadata": {}
        },
        {
            "cell_type": "markdown",
            "source": [
                "## A Second Approach\n",
                "\n",
                "First, we'll set up our data again."
            ],
            "metadata": {}
        },
        {
            "cell_type": "code",
            "execution_count": 9,
            "source": [
                "nodes = setup()\n",
                "nodes"
            ],
            "outputs": [
                {
                    "output_type": "execute_result",
                    "data": {
                        "text/plain": [
                            "{'parent_a': {'name': 'parent_a', 'id': 1, 'parent': 1},\n",
                            " 'parent_b': {'name': 'parent_b', 'id': 2, 'parent': 2},\n",
                            " 'parent_d': {'name': 'parent_d', 'id': 4, 'parent': 4},\n",
                            " 'parent_g': {'name': 'parent_g', 'id': 7, 'parent': 7},\n",
                            " 'child_100': {'name': 'child_100', 'id': 100, 'parent': 1},\n",
                            " 'child_101': {'name': 'child_101', 'id': 101, 'parent': 2},\n",
                            " 'child_102': {'name': 'child_102', 'id': 102, 'parent': 3},\n",
                            " 'child_103': {'name': 'child_103', 'id': 103, 'parent': 4},\n",
                            " 'child_104': {'name': 'child_104', 'id': 104, 'parent': 1},\n",
                            " 'child_105': {'name': 'child_105', 'id': 105, 'parent': 2},\n",
                            " 'child_106': {'name': 'child_106', 'id': 106, 'parent': 3},\n",
                            " 'child_107': {'name': 'child_107', 'id': 107, 'parent': 4},\n",
                            " 'child_108': {'name': 'child_108', 'id': 108, 'parent': 1},\n",
                            " 'child_109': {'name': 'child_109', 'id': 109, 'parent': 2},\n",
                            " 'child_110': {'name': 'child_110', 'id': 110, 'parent': 3},\n",
                            " 'child_111': {'name': 'child_111', 'id': 111, 'parent': 4},\n",
                            " 'child_112': {'name': 'child_112', 'id': 112, 'parent': 1},\n",
                            " 'child_113': {'name': 'child_113', 'id': 113, 'parent': 2},\n",
                            " 'child_114': {'name': 'child_114', 'id': 114, 'parent': 3},\n",
                            " 'child_115': {'name': 'child_115', 'id': 115, 'parent': 4},\n",
                            " 'child_116': {'name': 'child_116', 'id': 116, 'parent': 1},\n",
                            " 'child_117': {'name': 'child_117', 'id': 117, 'parent': 2},\n",
                            " 'child_118': {'name': 'child_118', 'id': 118, 'parent': 3},\n",
                            " 'child_119': {'name': 'child_119', 'id': 119, 'parent': 4}}"
                        ]
                    },
                    "metadata": {},
                    "execution_count": 9
                }
            ],
            "metadata": {}
        },
        {
            "cell_type": "markdown",
            "source": [
                "We'll go through similar steps as in the first approach. But before we begin, we make a map from `id` to `(name, id, parentId)` so we can just work with IDs.\n",
                "\n",
                "There are a couple of advantages to this approach:\n",
                "\n",
                "* We don't need to keep any actual nodes around between the initial pass and the final creation step. This ccould save on memory, in theory. (I doubt this is significant in practice here.)\n",
                "* It's a little easier to see what's going on.\n",
                "\n",
                "The downside is a bit of work up front to collect the information."
            ],
            "metadata": {}
        },
        {
            "cell_type": "markdown",
            "source": [
                "First, we'll collect our ids and get a map to `(name, id, parentId)`"
            ],
            "metadata": {}
        },
        {
            "cell_type": "code",
            "execution_count": 10,
            "source": [
                "ids = {node[\"id\"]:(name,node[\"id\"],node[\"parent\"]) for (name,node) in nodes.items()}\n",
                "ids"
            ],
            "outputs": [
                {
                    "output_type": "execute_result",
                    "data": {
                        "text/plain": [
                            "{1: ('parent_a', 1, 1),\n",
                            " 2: ('parent_b', 2, 2),\n",
                            " 4: ('parent_d', 4, 4),\n",
                            " 7: ('parent_g', 7, 7),\n",
                            " 100: ('child_100', 100, 1),\n",
                            " 101: ('child_101', 101, 2),\n",
                            " 102: ('child_102', 102, 3),\n",
                            " 103: ('child_103', 103, 4),\n",
                            " 104: ('child_104', 104, 1),\n",
                            " 105: ('child_105', 105, 2),\n",
                            " 106: ('child_106', 106, 3),\n",
                            " 107: ('child_107', 107, 4),\n",
                            " 108: ('child_108', 108, 1),\n",
                            " 109: ('child_109', 109, 2),\n",
                            " 110: ('child_110', 110, 3),\n",
                            " 111: ('child_111', 111, 4),\n",
                            " 112: ('child_112', 112, 1),\n",
                            " 113: ('child_113', 113, 2),\n",
                            " 114: ('child_114', 114, 3),\n",
                            " 115: ('child_115', 115, 4),\n",
                            " 116: ('child_116', 116, 1),\n",
                            " 117: ('child_117', 117, 2),\n",
                            " 118: ('child_118', 118, 3),\n",
                            " 119: ('child_119', 119, 4)}"
                        ]
                    },
                    "metadata": {},
                    "execution_count": 10
                }
            ],
            "metadata": {}
        },
        {
            "cell_type": "markdown",
            "source": [
                "Then we'll augment that with a map from parent to a child."
            ],
            "metadata": {}
        },
        {
            "cell_type": "code",
            "execution_count": 11,
            "source": [
                "parent_map = {parent:child for (name, child, parent) in ids.values()}  #2a\n",
                "parent_map"
            ],
            "outputs": [
                {
                    "output_type": "execute_result",
                    "data": {
                        "text/plain": [
                            "{1: 116, 2: 117, 4: 119, 7: 7, 3: 118}"
                        ]
                    },
                    "metadata": {},
                    "execution_count": 11
                }
            ],
            "metadata": {}
        },
        {
            "cell_type": "markdown",
            "source": [
                "So now we do essentially the same as above, but without any maps. Instead, we create sets directly,\n",
                "using the information in `ids`, and then `parent_map` to find the child to use.\n",
                "\n",
                "Note that the difference between a map comprehension and a set comprehension is that instead of `key:value`, we just write `value`.\n",
                "\n",
                "For example, instead of this map:\n",
                "\n",
                "```python\n",
                "{\"key_\" + str(i):i for i in range(0, 10) if i % 3 = 0}\n",
                "```\n",
                "\n",
                "We write this set:\n",
                "\n",
                "```python\n",
                "{\"key_\" + str(i) for i in range(0, 10) if i % 3 = 0}\n",
                "```\n",
                "\n",
                "The other new thing below is using a generator comprehension to supply values to a set comprehension.\n",
                "\n",
                "In step #3, we want not the child IDs, but rather the result of looking up `id` as `ids[id]`.\n",
                "We could do this as two steps with a variable. But here, we're just doing it to be able to destructure.\n",
                "\n",
                "```python\n",
                "(ids[id] for id in children)\n",
                "```\n",
                "\n",
                "So we don't really need a variable, but if we wanted to, it would look like this:\n",
                "```python\n",
                "children_info = (ids[id] for id in children)\n",
                "in_use = {parent for (id, name, parent) in children_info}\n",
                "```\n",
                "\n",
                "We could also write that as:\n",
                "\n",
                "```python\n",
                "in_use = {ids[id][2] for id in children}\n",
                "```\n",
                "\n",
                "But `ids[id][2]` is hard to understand. Doing the `ids[id]` first lets us use destructuring to access\n",
                "`parent`. A little longer and more complex, but a bit more explicit about what we're doing. But in step 6,\n",
                "I use `ids[id][0]`, so you can compare see it both ways.\n"
            ],
            "metadata": {}
        },
        {
            "cell_type": "code",
            "execution_count": 12,
            "source": [
                "parents = {id for (name, id, parent) in ids.values() if id == parent}    #1\n",
                "children = {id for (name, id, parent) in ids.values() if id != parent}   #2\n",
                "in_use = {parent for (id, name, parent) in (ids[id] for id in children)} #3\n",
                "need_to_create = in_use.difference(parents)                              #4\n",
                "orphans = {parent_map[parent] for parent in need_to_create}              #5\n",
                "[create_parent(ids[id][0]) for id in orphans]                            #6\n"
            ],
            "outputs": [
                {
                    "output_type": "stream",
                    "name": "stdout",
                    "text": [
                        "create_parent child_118\n"
                    ]
                },
                {
                    "output_type": "execute_result",
                    "data": {
                        "text/plain": [
                            "['child_118']"
                        ]
                    },
                    "metadata": {},
                    "execution_count": 12
                }
            ],
            "metadata": {}
        },
        {
            "cell_type": "markdown",
            "source": [
                "These are very similar. In the first example, we combine the use of maps and sets. In the second, we separate them out, by first indexing our data,\n",
                "then performing the set operations.\n",
                "\n",
                "The extra work up front makes things later simpler and easier to understand.\n",
                "\n",
                "The benefit here is small; if we performed more complex operations, the benefit of pre-indexing becomes much greater.\n",
                "It's not just that the code is easier to read. It's easier to write, and easier to think about what to write.\n",
                "\n",
                "But both techniques are valid:\n",
                "\n",
                "* Passing on all the relevant data at each step.\n",
                "* Pre-indexing, and just pass keys to look up the data."
            ],
            "metadata": {}
        },
        {
            "cell_type": "markdown",
            "source": [],
            "metadata": {}
        },
        {
            "cell_type": "markdown",
            "source": [],
            "metadata": {}
        }
    ],
    "metadata": {
        "orig_nbformat": 4,
        "language_info": {
            "name": "python",
            "version": "3.8.8",
            "mimetype": "text/x-python",
            "codemirror_mode": {
                "name": "ipython",
                "version": 3
            },
            "pygments_lexer": "ipython3",
            "nbconvert_exporter": "python",
            "file_extension": ".py"
        },
        "kernelspec": {
            "name": "python3",
            "display_name": "Python 3.8.8 64-bit ('quantecon2': conda)"
        },
        "interpreter": {
            "hash": "3b7f46af9056fed9454bb316c7ff931025fa3be34436a7fb847e8a2d48164f9c"
        }
    },
    "nbformat": 4,
    "nbformat_minor": 2
}